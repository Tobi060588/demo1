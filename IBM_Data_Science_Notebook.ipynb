{
    "cells": [
        {
            "cell_type": "markdown",
            "metadata": {
                "collapsed": true
            },
            "source": "# My Jupyter Notebook on IBM Watson Studio"
        },
        {
            "cell_type": "markdown",
            "metadata": {},
            "source": "__Tobias Krahl__ \n<br>\nSpecialist Workoptimization"
        },
        {
            "cell_type": "markdown",
            "metadata": {},
            "source": "_In my career I had to do more and more data analysis. Therefore I used Excel. After a bit of research I realized that data analysis will become more and more important. I want to learn Data Science because I want to create analysis to help people and to make their work easier._   "
        },
        {
            "cell_type": "markdown",
            "metadata": {},
            "source": "### My code is a simple function to add variables"
        },
        {
            "cell_type": "code",
            "execution_count": 4,
            "metadata": {},
            "outputs": [
                {
                    "name": "stdout",
                    "output_type": "stream",
                    "text": "11\n"
                }
            ],
            "source": "a = 1\nb = 10\n\nc = a + b\nprint(c)"
        },
        {
            "cell_type": "markdown",
            "metadata": {},
            "source": "| Name | Description | age         \n| :- |-------------: | :-:\n|Mary| She is a nice girl.  | 20\n| Jackie Junior | He is a very naughty boy. | 5\n\n<br>\n\n1. First numbered point\n2. Second numbered point\n3. Last numbered point\n\n<br>\n\n- First point\n- Second point\n- Last point"
        },
        {
            "cell_type": "code",
            "execution_count": null,
            "metadata": {},
            "outputs": [],
            "source": ""
        }
    ],
    "metadata": {
        "kernelspec": {
            "display_name": "Python 3.6",
            "language": "python",
            "name": "python3"
        },
        "language_info": {
            "codemirror_mode": {
                "name": "ipython",
                "version": 3
            },
            "file_extension": ".py",
            "mimetype": "text/x-python",
            "name": "python",
            "nbconvert_exporter": "python",
            "pygments_lexer": "ipython3",
            "version": "3.6.9"
        }
    },
    "nbformat": 4,
    "nbformat_minor": 1
}